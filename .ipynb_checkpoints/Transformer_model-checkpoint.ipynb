{
 "cells": [
  {
   "cell_type": "markdown",
   "metadata": {},
   "source": [
    "# Transformer based on TA notebook"
   ]
  },
  {
   "cell_type": "markdown",
   "metadata": {},
   "source": [
    "#### This notebook has been created by Tonmoy."
   ]
  },
  {
   "cell_type": "markdown",
   "metadata": {},
   "source": [
    "## (i) Importing the necessary packages"
   ]
  },
  {
   "cell_type": "code",
   "execution_count": 54,
   "metadata": {},
   "outputs": [],
   "source": [
    "import numpy as np\n",
    "import pandas as pd\n",
    "import keras\n",
    "from keras.models import Sequential\n",
    "from keras.layers import Dense, Activation, Flatten,Dropout\n",
    "from keras.layers import Conv2D,LSTM,BatchNormalization,MaxPooling2D,Reshape\n",
    "from keras.utils import to_categorical\n",
    "import matplotlib.pyplot as plt\n",
    "import tensorflow as tf"
   ]
  },
  {
   "cell_type": "markdown",
   "metadata": {},
   "source": [
    "## (ii) Preprocessing the dataset and preparing the training, validation, and test datasets"
   ]
  },
  {
   "cell_type": "code",
   "execution_count": 55,
   "metadata": {},
   "outputs": [],
   "source": [
    "def data_prep(X,y,sub_sample,average,noise):\n",
    "    \n",
    "    total_X = None\n",
    "    total_y = None\n",
    "    \n",
    "    # Trimming the data (sample,22,1000) -> (sample,22,500)\n",
    "    X = X[:,:,0:500]\n",
    "    print('Shape of X after trimming:',X.shape)\n",
    "    \n",
    "    # Maxpooling the data (sample,22,1000) -> (sample,22,500/sub_sample)\n",
    "    X_max = np.max(X.reshape(X.shape[0], X.shape[1], -1, sub_sample), axis=3)\n",
    "    \n",
    "    \n",
    "    total_X = X_max\n",
    "    total_y = y\n",
    "    print('Shape of X after maxpooling:',total_X.shape)\n",
    "    \n",
    "    # Averaging + noise \n",
    "    X_average = np.mean(X.reshape(X.shape[0], X.shape[1], -1, average),axis=3)\n",
    "    X_average = X_average + np.random.normal(0.0, 0.5, X_average.shape)\n",
    "    \n",
    "    total_X = np.vstack((total_X, X_average))\n",
    "    total_y = np.hstack((total_y, y))\n",
    "    print('Shape of X after averaging+noise and concatenating:',total_X.shape)\n",
    "    \n",
    "    # Subsampling\n",
    "    \n",
    "    for i in range(sub_sample):\n",
    "        \n",
    "        X_subsample = X[:, :, i::sub_sample] + \\\n",
    "                            (np.random.normal(0.0, 0.5, X[:, :,i::sub_sample].shape) if noise else 0.0)\n",
    "            \n",
    "        total_X = np.vstack((total_X, X_subsample))\n",
    "        total_y = np.hstack((total_y, y))\n",
    "        \n",
    "    \n",
    "    print('Shape of X after subsampling and concatenating:',total_X.shape)\n",
    "    return total_X,total_y\n",
    "\n"
   ]
  },
  {
   "cell_type": "code",
   "execution_count": 56,
   "metadata": {},
   "outputs": [
    {
     "name": "stdout",
     "output_type": "stream",
     "text": [
      "Shape of X after trimming: (1740, 22, 500)\n",
      "Shape of X after maxpooling: (1740, 22, 250)\n",
      "Shape of X after averaging+noise and concatenating: (3480, 22, 250)\n",
      "Shape of X after subsampling and concatenating: (6960, 22, 250)\n",
      "Shape of X after trimming: (375, 22, 500)\n",
      "Shape of X after maxpooling: (375, 22, 250)\n",
      "Shape of X after averaging+noise and concatenating: (750, 22, 250)\n",
      "Shape of X after subsampling and concatenating: (1500, 22, 250)\n",
      "Shape of X after trimming: (443, 22, 500)\n",
      "Shape of X after maxpooling: (443, 22, 250)\n",
      "Shape of X after averaging+noise and concatenating: (886, 22, 250)\n",
      "Shape of X after subsampling and concatenating: (1772, 22, 250)\n",
      "Shape of training set: (6960, 22, 250)\n",
      "Shape of validation set: (1500, 22, 250)\n",
      "Shape of training labels: (6960,)\n",
      "Shape of validation labels: (1500,)\n",
      "Shape of testing set: (1772, 22, 250)\n",
      "Shape of testing labels: (1772,)\n",
      "Shape of training labels after categorical conversion: (6960, 4)\n",
      "Shape of validation labels after categorical conversion: (1500, 4)\n",
      "Shape of test labels after categorical conversion: (1772, 4)\n",
      "Shape of training set after adding width info: (6960, 22, 250, 1)\n",
      "Shape of validation set after adding width info: (1500, 22, 250, 1)\n",
      "Shape of test set after adding width info: (1772, 22, 250, 1)\n",
      "Shape of training set after dimension reshaping: (6960, 250, 1, 22)\n",
      "Shape of validation set after dimension reshaping: (1500, 250, 1, 22)\n",
      "Shape of test set after dimension reshaping: (1772, 250, 1, 22)\n"
     ]
    }
   ],
   "source": [
    "## Loading the dataset\n",
    "\n",
    "\n",
    "X_test = np.load(\"X_test.npy\")\n",
    "y_test = np.load(\"y_test.npy\")\n",
    "person_train_valid = np.load(\"person_train_valid.npy\")\n",
    "X_train_valid = np.load(\"X_train_valid.npy\")\n",
    "y_train_valid = np.load(\"y_train_valid.npy\")\n",
    "person_test = np.load(\"person_test.npy\")\n",
    "\n",
    "## Adjusting the labels so that \n",
    "\n",
    "# Cue onset left - 0\n",
    "# Cue onset right - 1\n",
    "# Cue onset foot - 2\n",
    "# Cue onset tongue - 3\n",
    "\n",
    "y_train_valid -= 769\n",
    "y_test -= 769\n",
    "\n",
    "\n",
    "## Random splitting and reshaping the data\n",
    "# First generating the training and validation indices using random splitting\n",
    "\n",
    "ind_valid = np.random.choice(2115, 375, replace=False)\n",
    "ind_train = np.array(list(set(range(2115)).difference(set(ind_valid))))\n",
    "\n",
    "# Creating the training and validation sets using the generated indices\n",
    "(X_train, X_valid) = X_train_valid[ind_train], X_train_valid[ind_valid] \n",
    "(y_train, y_valid) = y_train_valid[ind_train], y_train_valid[ind_valid]\n",
    "\n",
    "\n",
    "## Preprocessing the dataset\n",
    "x_train,y_train = data_prep(X_train,y_train,2,2,True)\n",
    "x_valid,y_valid = data_prep(X_valid,y_valid,2,2,True)\n",
    "X_test_prep,y_test_prep = data_prep(X_test,y_test,2,2,True)\n",
    "\n",
    "\n",
    "print('Shape of training set:',x_train.shape)\n",
    "print('Shape of validation set:',x_valid.shape)\n",
    "print('Shape of training labels:',y_train.shape)\n",
    "print('Shape of validation labels:',y_valid.shape)\n",
    "print('Shape of testing set:',X_test_prep.shape)\n",
    "print('Shape of testing labels:',y_test_prep.shape)\n",
    "\n",
    "\n",
    "# Converting the labels to categorical variables for multiclass classification\n",
    "y_train = to_categorical(y_train, 4)\n",
    "y_valid = to_categorical(y_valid, 4)\n",
    "y_test = to_categorical(y_test_prep, 4)\n",
    "print('Shape of training labels after categorical conversion:',y_train.shape)\n",
    "print('Shape of validation labels after categorical conversion:',y_valid.shape)\n",
    "print('Shape of test labels after categorical conversion:',y_test.shape)\n",
    "\n",
    "# Adding width of the segment to be 1\n",
    "x_train = x_train.reshape(x_train.shape[0], x_train.shape[1], x_train.shape[2], 1)\n",
    "x_valid = x_valid.reshape(x_valid.shape[0], x_valid.shape[1], x_train.shape[2], 1)\n",
    "x_test = X_test_prep.reshape(X_test_prep.shape[0], X_test_prep.shape[1], X_test_prep.shape[2], 1)\n",
    "print('Shape of training set after adding width info:',x_train.shape)\n",
    "print('Shape of validation set after adding width info:',x_valid.shape)\n",
    "print('Shape of test set after adding width info:',x_test.shape)\n",
    "\n",
    "\n",
    "# Reshaping the training and validation dataset\n",
    "x_train = np.swapaxes(x_train, 1,3)\n",
    "x_train = np.swapaxes(x_train, 1,2)\n",
    "x_valid = np.swapaxes(x_valid, 1,3)\n",
    "x_valid = np.swapaxes(x_valid, 1,2)\n",
    "x_test = np.swapaxes(x_test, 1,3)\n",
    "x_test = np.swapaxes(x_test, 1,2)\n",
    "print('Shape of training set after dimension reshaping:',x_train.shape)\n",
    "print('Shape of validation set after dimension reshaping:',x_valid.shape)\n",
    "print('Shape of test set after dimension reshaping:',x_test.shape)\n",
    "\n",
    "\n"
   ]
  },
  {
   "cell_type": "markdown",
   "metadata": {},
   "source": [
    "## (iii)(CNN-LSTM) Defining the architecture of the hybrid CNN-LSTM model"
   ]
  },
  {
   "cell_type": "code",
   "execution_count": 57,
   "metadata": {},
   "outputs": [
    {
     "name": "stdout",
     "output_type": "stream",
     "text": [
      "Model: \"model_16\"\n",
      "__________________________________________________________________________________________________\n",
      " Layer (type)                   Output Shape         Param #     Connected to                     \n",
      "==================================================================================================\n",
      " input_26 (InputLayer)          [(None, 250, 1, 22)  0           []                               \n",
      "                                ]                                                                 \n",
      "                                                                                                  \n",
      " lambda_18 (Lambda)             (None, 250, 1, 22)   0           ['input_26[0][0]']               \n",
      "                                                                                                  \n",
      " batch_normalization_18 (BatchN  (None, 250, 1, 22)  88          ['lambda_18[0][0]']              \n",
      " ormalization)                                                                                    \n",
      "                                                                                                  \n",
      " multi_head_attention_66 (Multi  (None, 250, 1, 22)  8030        ['batch_normalization_18[0][0]', \n",
      " HeadAttention)                                                   'batch_normalization_18[0][0]'] \n",
      "                                                                                                  \n",
      " dropout_195 (Dropout)          (None, 250, 1, 22)   0           ['multi_head_attention_66[0][0]']\n",
      "                                                                                                  \n",
      " tf.__operators__.add_130 (TFOp  (None, 250, 1, 22)  0           ['input_26[0][0]',               \n",
      " Lambda)                                                          'dropout_195[0][0]']            \n",
      "                                                                                                  \n",
      " layer_normalization_130 (Layer  (None, 250, 1, 22)  44          ['tf.__operators__.add_130[0][0]'\n",
      " Normalization)                                                  ]                                \n",
      "                                                                                                  \n",
      " dense_155 (Dense)              (None, 250, 1, 128)  2944        ['layer_normalization_130[0][0]']\n",
      "                                                                                                  \n",
      " dropout_196 (Dropout)          (None, 250, 1, 128)  0           ['dense_155[0][0]']              \n",
      "                                                                                                  \n",
      " dense_156 (Dense)              (None, 250, 1, 22)   2838        ['dropout_196[0][0]']            \n",
      "                                                                                                  \n",
      " dropout_197 (Dropout)          (None, 250, 1, 22)   0           ['dense_156[0][0]']              \n",
      "                                                                                                  \n",
      " tf.__operators__.add_131 (TFOp  (None, 250, 1, 22)  0           ['layer_normalization_130[0][0]',\n",
      " Lambda)                                                          'dropout_197[0][0]']            \n",
      "                                                                                                  \n",
      " layer_normalization_131 (Layer  (None, 250, 1, 22)  44          ['tf.__operators__.add_131[0][0]'\n",
      " Normalization)                                                  ]                                \n",
      "                                                                                                  \n",
      " multi_head_attention_67 (Multi  (None, 250, 1, 22)  8030        ['layer_normalization_131[0][0]',\n",
      " HeadAttention)                                                   'layer_normalization_131[0][0]']\n",
      "                                                                                                  \n",
      " dropout_198 (Dropout)          (None, 250, 1, 22)   0           ['multi_head_attention_67[0][0]']\n",
      "                                                                                                  \n",
      " tf.__operators__.add_132 (TFOp  (None, 250, 1, 22)  0           ['input_26[0][0]',               \n",
      " Lambda)                                                          'dropout_198[0][0]']            \n",
      "                                                                                                  \n",
      " layer_normalization_132 (Layer  (None, 250, 1, 22)  44          ['tf.__operators__.add_132[0][0]'\n",
      " Normalization)                                                  ]                                \n",
      "                                                                                                  \n",
      " dense_157 (Dense)              (None, 250, 1, 128)  2944        ['layer_normalization_132[0][0]']\n",
      "                                                                                                  \n",
      " dropout_199 (Dropout)          (None, 250, 1, 128)  0           ['dense_157[0][0]']              \n",
      "                                                                                                  \n",
      " dense_158 (Dense)              (None, 250, 1, 22)   2838        ['dropout_199[0][0]']            \n",
      "                                                                                                  \n",
      " dropout_200 (Dropout)          (None, 250, 1, 22)   0           ['dense_158[0][0]']              \n",
      "                                                                                                  \n",
      " tf.__operators__.add_133 (TFOp  (None, 250, 1, 22)  0           ['layer_normalization_132[0][0]',\n",
      " Lambda)                                                          'dropout_200[0][0]']            \n",
      "                                                                                                  \n",
      " layer_normalization_133 (Layer  (None, 250, 1, 22)  44          ['tf.__operators__.add_133[0][0]'\n",
      " Normalization)                                                  ]                                \n",
      "                                                                                                  \n",
      " multi_head_attention_68 (Multi  (None, 250, 1, 22)  8030        ['layer_normalization_133[0][0]',\n",
      " HeadAttention)                                                   'layer_normalization_133[0][0]']\n",
      "                                                                                                  \n",
      " dropout_201 (Dropout)          (None, 250, 1, 22)   0           ['multi_head_attention_68[0][0]']\n",
      "                                                                                                  \n",
      " tf.__operators__.add_134 (TFOp  (None, 250, 1, 22)  0           ['input_26[0][0]',               \n",
      " Lambda)                                                          'dropout_201[0][0]']            \n",
      "                                                                                                  \n",
      " layer_normalization_134 (Layer  (None, 250, 1, 22)  44          ['tf.__operators__.add_134[0][0]'\n",
      " Normalization)                                                  ]                                \n",
      "                                                                                                  \n",
      " dense_159 (Dense)              (None, 250, 1, 128)  2944        ['layer_normalization_134[0][0]']\n",
      "                                                                                                  \n",
      " dropout_202 (Dropout)          (None, 250, 1, 128)  0           ['dense_159[0][0]']              \n",
      "                                                                                                  \n",
      " dense_160 (Dense)              (None, 250, 1, 22)   2838        ['dropout_202[0][0]']            \n",
      "                                                                                                  \n",
      " dropout_203 (Dropout)          (None, 250, 1, 22)   0           ['dense_160[0][0]']              \n",
      "                                                                                                  \n",
      " tf.__operators__.add_135 (TFOp  (None, 250, 1, 22)  0           ['layer_normalization_134[0][0]',\n",
      " Lambda)                                                          'dropout_203[0][0]']            \n",
      "                                                                                                  \n"
     ]
    },
    {
     "name": "stdout",
     "output_type": "stream",
     "text": [
      " layer_normalization_135 (Layer  (None, 250, 1, 22)  44          ['tf.__operators__.add_135[0][0]'\n",
      " Normalization)                                                  ]                                \n",
      "                                                                                                  \n",
      " flatten_16 (Flatten)           (None, 5500)         0           ['layer_normalization_135[0][0]']\n",
      "                                                                                                  \n",
      " dense_161 (Dense)              (None, 4)            22004       ['flatten_16[0][0]']             \n",
      "                                                                                                  \n",
      "==================================================================================================\n",
      "Total params: 63,792\n",
      "Trainable params: 63,748\n",
      "Non-trainable params: 44\n",
      "__________________________________________________________________________________________________\n"
     ]
    }
   ],
   "source": [
    "import tensorflow as tf\n",
    "\n",
    "# Define the input shape\n",
    "input_shape = (250, 1, 22)\n",
    "\n",
    "# Define the output shape\n",
    "output_shape = 4\n",
    "\n",
    "# Define the hyperparameters\n",
    "num_heads = 4\n",
    "ff_dim = 128\n",
    "dropout_rate = 0.5\n",
    "\n",
    "# Define the input layer\n",
    "inputs = tf.keras.layers.Input(shape=input_shape)\n",
    "\n",
    "# Add positional encoding\n",
    "positional_encoding = tf.keras.layers.Lambda(\n",
    "    lambda x: x * tf.math.sqrt(tf.cast(tf.shape(x)[-2], tf.float32))\n",
    ")(inputs)\n",
    "positional_encoding = tf.keras.layers.BatchNormalization()(positional_encoding)\n",
    "\n",
    "# Add Transformer layers\n",
    "for _ in range(3):\n",
    "    # Add multi-head attention\n",
    "    multi_head_attention = tf.keras.layers.MultiHeadAttention(\n",
    "        num_heads=num_heads, key_dim=22\n",
    "    )(positional_encoding, positional_encoding)\n",
    "    multi_head_attention = tf.keras.layers.Dropout(dropout_rate)(multi_head_attention)\n",
    "    multi_head_attention = tf.keras.layers.LayerNormalization(epsilon=1e-6)(\n",
    "        inputs + multi_head_attention\n",
    "    )\n",
    "\n",
    "    # Add feedforward layer\n",
    "    feedforward_layer = tf.keras.layers.Dense(ff_dim, activation=\"relu\")(multi_head_attention)\n",
    "    feedforward_layer = tf.keras.layers.Dropout(dropout_rate)(feedforward_layer)\n",
    "    feedforward_layer = tf.keras.layers.Dense(22)(feedforward_layer)\n",
    "    feedforward_layer = tf.keras.layers.Dropout(dropout_rate)(feedforward_layer)\n",
    "    feedforward_layer = tf.keras.layers.LayerNormalization(epsilon=1e-6)(\n",
    "        multi_head_attention + feedforward_layer\n",
    "    )\n",
    "\n",
    "    # Update the positional encoding\n",
    "    positional_encoding = feedforward_layer\n",
    "\n",
    "# Flatten the output tensor\n",
    "flatten_output = tf.keras.layers.Flatten()(positional_encoding)\n",
    "\n",
    "# Add the output layer\n",
    "outputs = tf.keras.layers.Dense(output_shape, activation=\"softmax\")(flatten_output)\n",
    "\n",
    "# Create the model\n",
    "hybrid_cnn_lstm_model = tf.keras.Model(inputs=inputs, outputs=outputs)\n",
    "\n",
    "\n",
    "\n",
    "# Print the model summary\n",
    "\n",
    "hybrid_cnn_lstm_model.summary()\n",
    "\n",
    "\n",
    "\n",
    "\n",
    "\n"
   ]
  },
  {
   "cell_type": "markdown",
   "metadata": {},
   "source": [
    "## (iv)(CNN-LSTM) Defining the hyperparameters of the hybrid CNN-LSTM model"
   ]
  },
  {
   "cell_type": "code",
   "execution_count": 58,
   "metadata": {},
   "outputs": [],
   "source": [
    "# Model parameters\n",
    "learning_rate = 1e-3\n",
    "epochs = 5\n",
    "hybrid_cnn_lstm_optimizer = keras.optimizers.Adam(lr=learning_rate)"
   ]
  },
  {
   "cell_type": "markdown",
   "metadata": {},
   "source": [
    "## (v)(CNN-LSTM) Compiling, training and validating the model"
   ]
  },
  {
   "cell_type": "code",
   "execution_count": 59,
   "metadata": {},
   "outputs": [
    {
     "name": "stdout",
     "output_type": "stream",
     "text": [
      "Epoch 1/5\n",
      "109/109 [==============================] - 227s 2s/step - loss: 1.0790 - accuracy: 0.5759 - val_loss: 1.3067 - val_accuracy: 0.5373\n",
      "Epoch 2/5\n",
      "109/109 [==============================] - 216s 2s/step - loss: 0.4833 - accuracy: 0.8187 - val_loss: 1.4390 - val_accuracy: 0.5573\n",
      "Epoch 3/5\n",
      "109/109 [==============================] - 213s 2s/step - loss: 0.2728 - accuracy: 0.9109 - val_loss: 1.5101 - val_accuracy: 0.5767\n",
      "Epoch 4/5\n",
      "109/109 [==============================] - 220s 2s/step - loss: 0.1684 - accuracy: 0.9494 - val_loss: 1.5846 - val_accuracy: 0.5920\n",
      "Epoch 5/5\n",
      "109/109 [==============================] - 217s 2s/step - loss: 0.1107 - accuracy: 0.9753 - val_loss: 1.6835 - val_accuracy: 0.5820\n"
     ]
    }
   ],
   "source": [
    "# Compiling the model\n",
    "hybrid_cnn_lstm_model.compile(loss='categorical_crossentropy',\n",
    "                 optimizer=hybrid_cnn_lstm_optimizer,\n",
    "                 metrics=['accuracy'])\n",
    "\n",
    "# Training and validating the model\n",
    "hybrid_cnn_lstm_model_results = hybrid_cnn_lstm_model.fit(x_train,\n",
    "             y_train,\n",
    "             batch_size=64,\n",
    "             epochs=epochs,\n",
    "             validation_data=(x_valid, y_valid), verbose=True)\n",
    "\n"
   ]
  },
  {
   "cell_type": "markdown",
   "metadata": {},
   "source": [
    "## (vi)(CNN-LSTM) Visualizing the accuracy and loss trajectory"
   ]
  },
  {
   "cell_type": "code",
   "execution_count": 60,
   "metadata": {},
   "outputs": [
    {
     "data": {
      "image/png": "[encoded data removed]",
      "text/plain": [
       "<Figure size 640x480 with 1 Axes>"
      ]
     },
     "metadata": {},
     "output_type": "display_data"
    },
    {
     "data": {
      "image/png": "[encoded data removed]",
      "text/plain": [
       "<Figure size 640x480 with 1 Axes>"
      ]
     },
     "metadata": {},
     "output_type": "display_data"
    }
   ],
   "source": [
    "import matplotlib.pyplot as plt\n",
    "\n",
    "# Plotting accuracy trajectory\n",
    "plt.plot(hybrid_cnn_lstm_model_results.history['accuracy'])\n",
    "plt.plot(hybrid_cnn_lstm_model_results.history['val_accuracy'])\n",
    "plt.title('Hybrid CNN-LSTM model accuracy trajectory')\n",
    "plt.ylabel('accuracy')\n",
    "plt.xlabel('epoch')\n",
    "plt.legend(['train', 'val'], loc='upper left')\n",
    "plt.show()\n",
    "\n",
    "# Plotting loss trajectory\n",
    "plt.plot(hybrid_cnn_lstm_model_results.history['loss'],'o')\n",
    "plt.plot(hybrid_cnn_lstm_model_results.history['val_loss'],'o')\n",
    "plt.title('Hybrid CNN-LSTM model loss trajectory')\n",
    "plt.ylabel('loss')\n",
    "plt.xlabel('epoch')\n",
    "plt.legend(['train', 'val'], loc='upper left')\n",
    "plt.show()"
   ]
  },
  {
   "cell_type": "markdown",
   "metadata": {},
   "source": [
    "## (vii)(CNN-LSTM) Testing the performance of the hybrid CNN-LSTM model on the held out test set"
   ]
  },
  {
   "cell_type": "code",
   "execution_count": 63,
   "metadata": {},
   "outputs": [
    {
     "name": "stdout",
     "output_type": "stream",
     "text": [
      "Test accuracy of the Transformer model: 0.5609480738639832\n"
     ]
    }
   ],
   "source": [
    "## Testing the hybrid CNN-LSTM model\n",
    "\n",
    "hybrid_cnn_lstm_score = hybrid_cnn_lstm_model.evaluate(x_test, y_test, verbose=0)\n",
    "print('Test accuracy of the Transformer model:',hybrid_cnn_lstm_score[1])"
   ]
  }
 ],
 "metadata": {
  "kernelspec": {
   "display_name": "Python 3 (ipykernel)",
   "language": "python",
   "name": "python3"
  },
  "language_info": {
   "codemirror_mode": {
    "name": "ipython",
    "version": 3
   },
   "file_extension": ".py",
   "mimetype": "text/x-python",
   "name": "python",
   "nbconvert_exporter": "python",
   "pygments_lexer": "ipython3",
   "version": "3.9.13"
  }
 },
 "nbformat": 4,
 "nbformat_minor": 2
}
