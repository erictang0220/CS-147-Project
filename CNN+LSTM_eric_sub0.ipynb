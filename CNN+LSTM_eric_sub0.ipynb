{
 "cells": [
  {
   "cell_type": "markdown",
   "metadata": {},
   "source": [
    "## In this discussion, we will build a basic hybrid CNN-LSTM model for classification on the EEG dataset"
   ]
  },
  {
   "cell_type": "markdown",
   "metadata": {},
   "source": [
    "#### This notebook has been created by Tonmoy."
   ]
  },
  {
   "cell_type": "markdown",
   "metadata": {},
   "source": [
    "## (i) Importing the necessary packages"
   ]
  },
  {
   "cell_type": "code",
   "execution_count": 6,
   "metadata": {},
   "outputs": [],
   "source": [
    "import numpy as np\n",
    "import pandas as pd\n",
    "import keras\n",
    "from keras.models import Sequential\n",
    "from keras.layers import Dense, Activation, Flatten,Dropout\n",
    "from keras.layers import Conv2D,LSTM,BatchNormalization,MaxPooling2D,Reshape\n",
    "from keras.utils import to_categorical\n",
    "import matplotlib.pyplot as plt"
   ]
  },
  {
   "cell_type": "markdown",
   "metadata": {},
   "source": [
    "## (ii) Preprocessing the dataset and preparing the training, validation, and test datasets"
   ]
  },
  {
   "cell_type": "code",
   "execution_count": 7,
   "metadata": {},
   "outputs": [],
   "source": [
    "def data_prep(X,y,sub_sample,average,noise):\n",
    "    \n",
    "    total_X = None\n",
    "    total_y = None\n",
    "    \n",
    "    # Trimming the data (sample,22,1000) -> (sample,22,500)\n",
    "    X = X[:,:,0:500]\n",
    "    print('Shape of X after trimming:',X.shape)\n",
    "    \n",
    "    # Maxpooling the data (sample,22,1000) -> (sample,22,500/sub_sample)\n",
    "    X_max = np.max(X.reshape(X.shape[0], X.shape[1], -1, sub_sample), axis=3)\n",
    "    \n",
    "    \n",
    "    total_X = X_max\n",
    "    total_y = y\n",
    "    print('Shape of X after maxpooling:',total_X.shape)\n",
    "    \n",
    "    # Averaging + noise \n",
    "    X_average = np.mean(X.reshape(X.shape[0], X.shape[1], -1, average),axis=3)\n",
    "    X_average = X_average + np.random.normal(0.0, 0.5, X_average.shape)\n",
    "    \n",
    "    total_X = np.vstack((total_X, X_average))\n",
    "    total_y = np.hstack((total_y, y))\n",
    "    print('Shape of X after averaging+noise and concatenating:',total_X.shape)\n",
    "    \n",
    "    # Subsampling\n",
    "    \n",
    "    for i in range(sub_sample):\n",
    "        \n",
    "        X_subsample = X[:, :, i::sub_sample] + \\\n",
    "                            (np.random.normal(0.0, 0.5, X[:, :,i::sub_sample].shape) if noise else 0.0)\n",
    "            \n",
    "        total_X = np.vstack((total_X, X_subsample))\n",
    "        total_y = np.hstack((total_y, y))\n",
    "        \n",
    "    \n",
    "    print('Shape of X after subsampling and concatenating:',total_X.shape)\n",
    "    return total_X,total_y\n",
    "\n"
   ]
  },
  {
   "cell_type": "code",
   "execution_count": 8,
   "metadata": {},
   "outputs": [
    {
     "name": "stdout",
     "output_type": "stream",
     "text": [
      "(50, 22, 1000)\n",
      "(237, 22, 1000)\n",
      "(50,)\n",
      "(237,)\n",
      "Shape of X after trimming: (195, 22, 500)\n",
      "Shape of X after maxpooling: (195, 22, 250)\n",
      "Shape of X after averaging+noise and concatenating: (390, 22, 250)\n",
      "Shape of X after subsampling and concatenating: (780, 22, 250)\n",
      "Shape of X after trimming: (42, 22, 500)\n",
      "Shape of X after maxpooling: (42, 22, 250)\n",
      "Shape of X after averaging+noise and concatenating: (84, 22, 250)\n",
      "Shape of X after subsampling and concatenating: (168, 22, 250)\n",
      "Shape of X after trimming: (50, 22, 500)\n",
      "Shape of X after maxpooling: (50, 22, 250)\n",
      "Shape of X after averaging+noise and concatenating: (100, 22, 250)\n",
      "Shape of X after subsampling and concatenating: (200, 22, 250)\n",
      "Shape of training set: (780, 22, 250)\n",
      "Shape of validation set: (168, 22, 250)\n",
      "Shape of training labels: (780,)\n",
      "Shape of validation labels: (168,)\n",
      "Shape of testing set: (200, 22, 250)\n",
      "Shape of testing labels: (200,)\n",
      "Shape of training labels after categorical conversion: (780, 4)\n",
      "Shape of validation labels after categorical conversion: (168, 4)\n",
      "Shape of test labels after categorical conversion: (200, 4)\n",
      "Shape of training set after adding width info: (780, 22, 250, 1)\n",
      "Shape of validation set after adding width info: (168, 22, 250, 1)\n",
      "Shape of test set after adding width info: (200, 22, 250, 1)\n",
      "Shape of training set after dimension reshaping: (780, 250, 1, 22)\n",
      "Shape of validation set after dimension reshaping: (168, 250, 1, 22)\n",
      "Shape of test set after dimension reshaping: (200, 250, 1, 22)\n"
     ]
    }
   ],
   "source": [
    "## Loading the dataset\n",
    "\n",
    "\n",
    "X_test = np.load(\"X_test.npy\")\n",
    "y_test = np.load(\"y_test.npy\")\n",
    "person_train_valid = np.load(\"person_train_valid.npy\")\n",
    "X_train_valid = np.load(\"X_train_valid.npy\")\n",
    "y_train_valid = np.load(\"y_train_valid.npy\")\n",
    "person_test = np.load(\"person_test.npy\")\n",
    "\n",
    "# URGENT: new train/valid, test data \n",
    "person_X_test_sub0_idx = list(np.where(person_test == 0)[0])\n",
    "X_test = X_test[person_X_test_sub0_idx]\n",
    "print(X_test.shape)\n",
    "\n",
    "person_X_train_valid_sub0_idx = list(np.where(person_train_valid == 0)[0])\n",
    "X_train_valid = X_train_valid[person_X_train_valid_sub0_idx]\n",
    "print(X_train_valid.shape)\n",
    "\n",
    "person_y_test_sub0_idx = list(np.where(person_test == 0)[0])\n",
    "y_test = y_test[person_y_test_sub0_idx]\n",
    "print(y_test.shape)\n",
    "\n",
    "person_y_train_valid_sub0_idx = list(np.where(person_train_valid == 0)[0])\n",
    "y_train_valid = y_train_valid[person_y_train_valid_sub0_idx]\n",
    "print(y_train_valid.shape)\n",
    "\n",
    "#------------------------------------------------\n",
    "\n",
    "\n",
    "## Adjusting the labels so that \n",
    "\n",
    "# Cue onset left - 0\n",
    "# Cue onset right - 1\n",
    "# Cue onset foot - 2\n",
    "# Cue onset tongue - 3\n",
    "\n",
    "y_train_valid -= 769\n",
    "y_test -= 769\n",
    "\n",
    "\n",
    "## Random splitting and reshaping the data\n",
    "# First generating the training and validation indices using random splitting\n",
    "\n",
    "# 2115/375 ~= 0.177, 237 * 0.177 ~= 42\n",
    "ind_valid = np.random.choice(237, 42, replace=False)\n",
    "ind_train = np.array(list(set(range(237)).difference(set(ind_valid))))\n",
    "\n",
    "# Creating the training and validation sets using the generated indices\n",
    "(X_train, X_valid) = X_train_valid[ind_train], X_train_valid[ind_valid] \n",
    "(y_train, y_valid) = y_train_valid[ind_train], y_train_valid[ind_valid]\n",
    "\n",
    "\n",
    "## Preprocessing the dataset\n",
    "x_train,y_train = data_prep(X_train,y_train,2,2,True)\n",
    "x_valid,y_valid = data_prep(X_valid,y_valid,2,2,True)\n",
    "X_test_prep,y_test_prep = data_prep(X_test,y_test,2,2,True)\n",
    "\n",
    "\n",
    "print('Shape of training set:',x_train.shape)\n",
    "print('Shape of validation set:',x_valid.shape)\n",
    "print('Shape of training labels:',y_train.shape)\n",
    "print('Shape of validation labels:',y_valid.shape)\n",
    "print('Shape of testing set:',X_test_prep.shape)\n",
    "print('Shape of testing labels:',y_test_prep.shape)\n",
    "\n",
    "\n",
    "# Converting the labels to categorical variables for multiclass classification\n",
    "y_train = to_categorical(y_train, 4)\n",
    "y_valid = to_categorical(y_valid, 4)\n",
    "y_test = to_categorical(y_test_prep, 4)\n",
    "print('Shape of training labels after categorical conversion:',y_train.shape)\n",
    "print('Shape of validation labels after categorical conversion:',y_valid.shape)\n",
    "print('Shape of test labels after categorical conversion:',y_test.shape)\n",
    "\n",
    "# Adding width of the segment to be 1\n",
    "x_train = x_train.reshape(x_train.shape[0], x_train.shape[1], x_train.shape[2], 1)\n",
    "x_valid = x_valid.reshape(x_valid.shape[0], x_valid.shape[1], x_train.shape[2], 1)\n",
    "x_test = X_test_prep.reshape(X_test_prep.shape[0], X_test_prep.shape[1], X_test_prep.shape[2], 1)\n",
    "print('Shape of training set after adding width info:',x_train.shape)\n",
    "print('Shape of validation set after adding width info:',x_valid.shape)\n",
    "print('Shape of test set after adding width info:',x_test.shape)\n",
    "\n",
    "\n",
    "# Reshaping the training and validation dataset\n",
    "x_train = np.swapaxes(x_train, 1,3)\n",
    "x_train = np.swapaxes(x_train, 1,2)\n",
    "x_valid = np.swapaxes(x_valid, 1,3)\n",
    "x_valid = np.swapaxes(x_valid, 1,2)\n",
    "x_test = np.swapaxes(x_test, 1,3)\n",
    "x_test = np.swapaxes(x_test, 1,2)\n",
    "print('Shape of training set after dimension reshaping:',x_train.shape)\n",
    "print('Shape of validation set after dimension reshaping:',x_valid.shape)\n",
    "print('Shape of test set after dimension reshaping:',x_test.shape)\n",
    "\n",
    "\n"
   ]
  },
  {
   "cell_type": "markdown",
   "metadata": {},
   "source": [
    "## (iii)(CNN-LSTM) Defining the architecture of the hybrid CNN-LSTM model"
   ]
  },
  {
   "cell_type": "code",
   "execution_count": 11,
   "metadata": {},
   "outputs": [
    {
     "name": "stderr",
     "output_type": "stream",
     "text": [
      "2023-03-17 17:33:54.345494: I tensorflow/core/platform/cpu_feature_guard.cc:193] This TensorFlow binary is optimized with oneAPI Deep Neural Network Library (oneDNN) to use the following CPU instructions in performance-critical operations:  AVX2 AVX512F AVX512_VNNI FMA\n",
      "To enable them in other operations, rebuild TensorFlow with the appropriate compiler flags.\n"
     ]
    },
    {
     "name": "stdout",
     "output_type": "stream",
     "text": [
      "Model: \"sequential\"\n",
      "_________________________________________________________________\n",
      " Layer (type)                Output Shape              Param #   \n",
      "=================================================================\n",
      " conv2d (Conv2D)             (None, 250, 1, 25)        2775      \n",
      "                                                                 \n",
      " max_pooling2d (MaxPooling2D  (None, 84, 1, 25)        0         \n",
      " )                                                               \n",
      "                                                                 \n",
      " batch_normalization (BatchN  (None, 84, 1, 25)        100       \n",
      " ormalization)                                                   \n",
      "                                                                 \n",
      " dropout (Dropout)           (None, 84, 1, 25)         0         \n",
      "                                                                 \n",
      " conv2d_1 (Conv2D)           (None, 84, 1, 50)         6300      \n",
      "                                                                 \n",
      " max_pooling2d_1 (MaxPooling  (None, 28, 1, 50)        0         \n",
      " 2D)                                                             \n",
      "                                                                 \n",
      " batch_normalization_1 (Batc  (None, 28, 1, 50)        200       \n",
      " hNormalization)                                                 \n",
      "                                                                 \n",
      " dropout_1 (Dropout)         (None, 28, 1, 50)         0         \n",
      "                                                                 \n",
      " conv2d_2 (Conv2D)           (None, 28, 1, 100)        25100     \n",
      "                                                                 \n",
      " max_pooling2d_2 (MaxPooling  (None, 10, 1, 100)       0         \n",
      " 2D)                                                             \n",
      "                                                                 \n",
      " batch_normalization_2 (Batc  (None, 10, 1, 100)       400       \n",
      " hNormalization)                                                 \n",
      "                                                                 \n",
      " dropout_2 (Dropout)         (None, 10, 1, 100)        0         \n",
      "                                                                 \n",
      " conv2d_3 (Conv2D)           (None, 10, 1, 200)        100200    \n",
      "                                                                 \n",
      " max_pooling2d_3 (MaxPooling  (None, 4, 1, 200)        0         \n",
      " 2D)                                                             \n",
      "                                                                 \n",
      " batch_normalization_3 (Batc  (None, 4, 1, 200)        800       \n",
      " hNormalization)                                                 \n",
      "                                                                 \n",
      " dropout_3 (Dropout)         (None, 4, 1, 200)         0         \n",
      "                                                                 \n",
      " flatten (Flatten)           (None, 800)               0         \n",
      "                                                                 \n",
      " dense (Dense)               (None, 350)               280350    \n",
      "                                                                 \n",
      " reshape (Reshape)           (None, 350, 1)            0         \n",
      "                                                                 \n",
      " lstm (LSTM)                 (None, 35)                5180      \n",
      "                                                                 \n",
      " dense_1 (Dense)             (None, 4)                 144       \n",
      "                                                                 \n",
      "=================================================================\n",
      "Total params: 421,549\n",
      "Trainable params: 420,799\n",
      "Non-trainable params: 750\n",
      "_________________________________________________________________\n"
     ]
    }
   ],
   "source": [
    "# Building the CNN model using sequential class\n",
    "hybrid_cnn_lstm_model = Sequential()\n",
    "\n",
    "# Conv. block 1\n",
    "hybrid_cnn_lstm_model.add(Conv2D(filters=25, kernel_size=(5,1), padding='same', activation='elu', input_shape=(250,1,22)))\n",
    "hybrid_cnn_lstm_model.add(MaxPooling2D(pool_size=(3,1), padding='same')) # Read the keras documentation\n",
    "hybrid_cnn_lstm_model.add(BatchNormalization())\n",
    "hybrid_cnn_lstm_model.add(Dropout(0.5))\n",
    "\n",
    "# Conv. block 2\n",
    "hybrid_cnn_lstm_model.add(Conv2D(filters=50, kernel_size=(5,1), padding='same', activation='elu'))\n",
    "hybrid_cnn_lstm_model.add(MaxPooling2D(pool_size=(3,1), padding='same'))\n",
    "hybrid_cnn_lstm_model.add(BatchNormalization())\n",
    "hybrid_cnn_lstm_model.add(Dropout(0.5))\n",
    "\n",
    "# Conv. block 3\n",
    "hybrid_cnn_lstm_model.add(Conv2D(filters=100, kernel_size=(5,1), padding='same', activation='elu'))\n",
    "hybrid_cnn_lstm_model.add(MaxPooling2D(pool_size=(3,1), padding='same'))\n",
    "hybrid_cnn_lstm_model.add(BatchNormalization())\n",
    "hybrid_cnn_lstm_model.add(Dropout(0.5))\n",
    "\n",
    "# Conv. block 4\n",
    "hybrid_cnn_lstm_model.add(Conv2D(filters=200, kernel_size=(5,1), padding='same', activation='elu'))\n",
    "hybrid_cnn_lstm_model.add(MaxPooling2D(pool_size=(3,1), padding='same'))\n",
    "hybrid_cnn_lstm_model.add(BatchNormalization())\n",
    "hybrid_cnn_lstm_model.add(Dropout(0.5))\n",
    "\n",
    "# FC+LSTM layers\n",
    "hybrid_cnn_lstm_model.add(Flatten()) # Adding a flattening operation to the output of CNN block\n",
    "hybrid_cnn_lstm_model.add(Dense((350))) # FC layer with 100 units\n",
    "hybrid_cnn_lstm_model.add(Reshape((350,1))) # Reshape my output of FC layer so that it's compatible\n",
    "hybrid_cnn_lstm_model.add(LSTM(35, dropout=0.6, recurrent_dropout=0.1, input_shape=(350,1), return_sequences=False))\n",
    "\n",
    "# Output layer with Softmax activation \n",
    "hybrid_cnn_lstm_model.add(Dense(4, activation='softmax')) # Output FC layer with softmax activation\n",
    "\n",
    "\n",
    "# Printing the model summary\n",
    "hybrid_cnn_lstm_model.summary()\n",
    "\n",
    "\n",
    "\n",
    "\n",
    "\n"
   ]
  },
  {
   "cell_type": "markdown",
   "metadata": {},
   "source": [
    "## (iv)(CNN-LSTM) Defining the hyperparameters of the hybrid CNN-LSTM model"
   ]
  },
  {
   "cell_type": "code",
   "execution_count": 9,
   "metadata": {},
   "outputs": [
    {
     "name": "stderr",
     "output_type": "stream",
     "text": [
      "/Library/Frameworks/Python.framework/Versions/3.9/lib/python3.9/site-packages/keras/optimizers/optimizer_v2/adam.py:117: UserWarning: The `lr` argument is deprecated, use `learning_rate` instead.\n",
      "  super().__init__(name, **kwargs)\n"
     ]
    }
   ],
   "source": [
    "# Model parameters\n",
    "learning_rate = 1e-3\n",
    "epochs = 50\n",
    "hybrid_cnn_lstm_optimizer = keras.optimizers.Adam(lr=learning_rate)"
   ]
  },
  {
   "cell_type": "markdown",
   "metadata": {},
   "source": [
    "## (v)(CNN-LSTM) Compiling, training and validating the model"
   ]
  },
  {
   "cell_type": "code",
   "execution_count": 12,
   "metadata": {},
   "outputs": [
    {
     "name": "stdout",
     "output_type": "stream",
     "text": [
      "Epoch 1/50\n",
      "13/13 [==============================] - 9s 323ms/step - loss: 1.3884 - accuracy: 0.2397 - val_loss: 1.3918 - val_accuracy: 0.1131\n",
      "Epoch 2/50\n",
      "13/13 [==============================] - 3s 267ms/step - loss: 1.3771 - accuracy: 0.3256 - val_loss: 1.4031 - val_accuracy: 0.2857\n",
      "Epoch 3/50\n",
      "13/13 [==============================] - 4s 277ms/step - loss: 1.3472 - accuracy: 0.3026 - val_loss: 1.4444 - val_accuracy: 0.2857\n",
      "Epoch 4/50\n",
      "13/13 [==============================] - 4s 270ms/step - loss: 1.2521 - accuracy: 0.4154 - val_loss: 1.5844 - val_accuracy: 0.2857\n",
      "Epoch 5/50\n",
      "13/13 [==============================] - 4s 276ms/step - loss: 1.1307 - accuracy: 0.4564 - val_loss: 1.9219 - val_accuracy: 0.2857\n",
      "Epoch 6/50\n",
      "13/13 [==============================] - 4s 280ms/step - loss: 1.0656 - accuracy: 0.4654 - val_loss: 2.0864 - val_accuracy: 0.2857\n",
      "Epoch 7/50\n",
      "13/13 [==============================] - 4s 300ms/step - loss: 1.0081 - accuracy: 0.4885 - val_loss: 1.8803 - val_accuracy: 0.3155\n",
      "Epoch 8/50\n",
      "13/13 [==============================] - 4s 279ms/step - loss: 0.9970 - accuracy: 0.4949 - val_loss: 1.7234 - val_accuracy: 0.3393\n",
      "Epoch 9/50\n",
      "13/13 [==============================] - 4s 282ms/step - loss: 0.9911 - accuracy: 0.4962 - val_loss: 1.2771 - val_accuracy: 0.4107\n",
      "Epoch 10/50\n",
      "13/13 [==============================] - 4s 292ms/step - loss: 0.9659 - accuracy: 0.5321 - val_loss: 1.1494 - val_accuracy: 0.5060\n",
      "Epoch 11/50\n",
      "13/13 [==============================] - 4s 290ms/step - loss: 0.9220 - accuracy: 0.5654 - val_loss: 1.1227 - val_accuracy: 0.4702\n",
      "Epoch 12/50\n",
      "13/13 [==============================] - 4s 280ms/step - loss: 0.9141 - accuracy: 0.5500 - val_loss: 1.0446 - val_accuracy: 0.5238\n",
      "Epoch 13/50\n",
      "13/13 [==============================] - 4s 308ms/step - loss: 0.8801 - accuracy: 0.5936 - val_loss: 0.9692 - val_accuracy: 0.5714\n",
      "Epoch 14/50\n",
      "13/13 [==============================] - 4s 310ms/step - loss: 0.8867 - accuracy: 0.5756 - val_loss: 0.9262 - val_accuracy: 0.6012\n",
      "Epoch 15/50\n",
      "13/13 [==============================] - 4s 322ms/step - loss: 0.8319 - accuracy: 0.6218 - val_loss: 0.9646 - val_accuracy: 0.5774\n",
      "Epoch 16/50\n",
      "13/13 [==============================] - 5s 360ms/step - loss: 0.8128 - accuracy: 0.6295 - val_loss: 0.9747 - val_accuracy: 0.5655\n",
      "Epoch 17/50\n",
      "13/13 [==============================] - 4s 334ms/step - loss: 0.8527 - accuracy: 0.5859 - val_loss: 0.9878 - val_accuracy: 0.5952\n",
      "Epoch 18/50\n",
      "13/13 [==============================] - 5s 358ms/step - loss: 0.8275 - accuracy: 0.6256 - val_loss: 0.9001 - val_accuracy: 0.6786\n",
      "Epoch 19/50\n",
      "13/13 [==============================] - 5s 365ms/step - loss: 0.7860 - accuracy: 0.6128 - val_loss: 1.0281 - val_accuracy: 0.5774\n",
      "Epoch 20/50\n",
      "13/13 [==============================] - 6s 432ms/step - loss: 0.7736 - accuracy: 0.6564 - val_loss: 0.9816 - val_accuracy: 0.6250\n",
      "Epoch 21/50\n",
      "13/13 [==============================] - 5s 404ms/step - loss: 0.7314 - accuracy: 0.6782 - val_loss: 0.9878 - val_accuracy: 0.6190\n",
      "Epoch 22/50\n",
      "13/13 [==============================] - 5s 360ms/step - loss: 0.7014 - accuracy: 0.6859 - val_loss: 0.9510 - val_accuracy: 0.6488\n",
      "Epoch 23/50\n",
      "13/13 [==============================] - 5s 358ms/step - loss: 0.7423 - accuracy: 0.6872 - val_loss: 0.9233 - val_accuracy: 0.6369\n",
      "Epoch 24/50\n",
      "13/13 [==============================] - 5s 369ms/step - loss: 0.6818 - accuracy: 0.7141 - val_loss: 1.0148 - val_accuracy: 0.6071\n",
      "Epoch 25/50\n",
      "13/13 [==============================] - 4s 320ms/step - loss: 0.6665 - accuracy: 0.7077 - val_loss: 0.9783 - val_accuracy: 0.5714\n",
      "Epoch 26/50\n",
      "13/13 [==============================] - 4s 288ms/step - loss: 0.6392 - accuracy: 0.7244 - val_loss: 0.9452 - val_accuracy: 0.6310\n",
      "Epoch 27/50\n",
      "13/13 [==============================] - 3s 266ms/step - loss: 0.6048 - accuracy: 0.7641 - val_loss: 0.9836 - val_accuracy: 0.6012\n",
      "Epoch 28/50\n",
      "13/13 [==============================] - 4s 285ms/step - loss: 0.6295 - accuracy: 0.7423 - val_loss: 0.9535 - val_accuracy: 0.6131\n",
      "Epoch 29/50\n",
      "13/13 [==============================] - 4s 318ms/step - loss: 0.5973 - accuracy: 0.7641 - val_loss: 1.1926 - val_accuracy: 0.5357\n",
      "Epoch 30/50\n",
      "13/13 [==============================] - 5s 365ms/step - loss: 0.5840 - accuracy: 0.7590 - val_loss: 0.9919 - val_accuracy: 0.6250\n",
      "Epoch 31/50\n",
      "13/13 [==============================] - 4s 325ms/step - loss: 0.5909 - accuracy: 0.7615 - val_loss: 1.1178 - val_accuracy: 0.5952\n",
      "Epoch 32/50\n",
      "13/13 [==============================] - 3s 267ms/step - loss: 0.5349 - accuracy: 0.8115 - val_loss: 1.2296 - val_accuracy: 0.5238\n",
      "Epoch 33/50\n",
      "13/13 [==============================] - 3s 259ms/step - loss: 0.5887 - accuracy: 0.7692 - val_loss: 1.2894 - val_accuracy: 0.5417\n",
      "Epoch 34/50\n",
      "13/13 [==============================] - 4s 280ms/step - loss: 0.5332 - accuracy: 0.8026 - val_loss: 1.2750 - val_accuracy: 0.5238\n",
      "Epoch 35/50\n",
      "13/13 [==============================] - 4s 297ms/step - loss: 0.4691 - accuracy: 0.8154 - val_loss: 1.2747 - val_accuracy: 0.5536\n",
      "Epoch 36/50\n",
      "13/13 [==============================] - 4s 272ms/step - loss: 0.4521 - accuracy: 0.8359 - val_loss: 1.2970 - val_accuracy: 0.5595\n",
      "Epoch 37/50\n",
      "13/13 [==============================] - 3s 268ms/step - loss: 0.4825 - accuracy: 0.8115 - val_loss: 1.2348 - val_accuracy: 0.5774\n",
      "Epoch 38/50\n",
      "13/13 [==============================] - 4s 271ms/step - loss: 0.4640 - accuracy: 0.8269 - val_loss: 1.2882 - val_accuracy: 0.5357\n",
      "Epoch 39/50\n",
      "13/13 [==============================] - 3s 269ms/step - loss: 0.3789 - accuracy: 0.8679 - val_loss: 1.4106 - val_accuracy: 0.5536\n",
      "Epoch 40/50\n",
      "13/13 [==============================] - 4s 295ms/step - loss: 0.4303 - accuracy: 0.8462 - val_loss: 1.3992 - val_accuracy: 0.5357\n",
      "Epoch 41/50\n",
      "13/13 [==============================] - 4s 302ms/step - loss: 0.3906 - accuracy: 0.8654 - val_loss: 1.3257 - val_accuracy: 0.5893\n",
      "Epoch 42/50\n",
      "13/13 [==============================] - 4s 293ms/step - loss: 0.3483 - accuracy: 0.8859 - val_loss: 1.4866 - val_accuracy: 0.5238\n",
      "Epoch 43/50\n",
      "13/13 [==============================] - 4s 278ms/step - loss: 0.4348 - accuracy: 0.8615 - val_loss: 1.4853 - val_accuracy: 0.5357\n",
      "Epoch 44/50\n",
      "13/13 [==============================] - 4s 272ms/step - loss: 0.3958 - accuracy: 0.8538 - val_loss: 1.3611 - val_accuracy: 0.5655\n",
      "Epoch 45/50\n",
      "13/13 [==============================] - 3s 261ms/step - loss: 0.3766 - accuracy: 0.8756 - val_loss: 1.3179 - val_accuracy: 0.5536\n",
      "Epoch 46/50\n",
      "13/13 [==============================] - 3s 270ms/step - loss: 0.3432 - accuracy: 0.8795 - val_loss: 1.4162 - val_accuracy: 0.5714\n",
      "Epoch 47/50\n",
      "13/13 [==============================] - 4s 300ms/step - loss: 0.3443 - accuracy: 0.8872 - val_loss: 1.2669 - val_accuracy: 0.6250\n",
      "Epoch 48/50\n",
      "13/13 [==============================] - 4s 278ms/step - loss: 0.3553 - accuracy: 0.8769 - val_loss: 1.3878 - val_accuracy: 0.5893\n",
      "Epoch 49/50\n",
      "13/13 [==============================] - 4s 280ms/step - loss: 0.3026 - accuracy: 0.8859 - val_loss: 1.4297 - val_accuracy: 0.5952\n",
      "Epoch 50/50\n",
      "13/13 [==============================] - 4s 336ms/step - loss: 0.3227 - accuracy: 0.8897 - val_loss: 1.3734 - val_accuracy: 0.5595\n"
     ]
    }
   ],
   "source": [
    "# Compiling the model\n",
    "hybrid_cnn_lstm_model.compile(loss='categorical_crossentropy',\n",
    "                 optimizer=hybrid_cnn_lstm_optimizer,\n",
    "                 metrics=['accuracy'])\n",
    "\n",
    "# Training and validating the model\n",
    "hybrid_cnn_lstm_model_results = hybrid_cnn_lstm_model.fit(x_train,\n",
    "             y_train,\n",
    "             batch_size=64,\n",
    "             epochs=epochs,\n",
    "             validation_data=(x_valid, y_valid), verbose=True)\n",
    "\n"
   ]
  },
  {
   "cell_type": "markdown",
   "metadata": {},
   "source": [
    "## (vi)(CNN-LSTM) Visualizing the accuracy and loss trajectory"
   ]
  },
  {
   "cell_type": "code",
   "execution_count": 13,
   "metadata": {},
   "outputs": [
    {
     "data": {
      "image/png": "[encoded data removed]",
      "text/plain": [
       "<Figure size 640x480 with 1 Axes>"
      ]
     },
     "metadata": {},
     "output_type": "display_data"
    },
    {
     "data": {
      "image/png": "[encoded data removed]",
      "text/plain": [
       "<Figure size 640x480 with 1 Axes>"
      ]
     },
     "metadata": {},
     "output_type": "display_data"
    }
   ],
   "source": [
    "import matplotlib.pyplot as plt\n",
    "\n",
    "# Plotting accuracy trajectory\n",
    "plt.plot(hybrid_cnn_lstm_model_results.history['accuracy'])\n",
    "plt.plot(hybrid_cnn_lstm_model_results.history['val_accuracy'])\n",
    "plt.title('Hybrid CNN-LSTM model accuracy trajectory')\n",
    "plt.ylabel('accuracy')\n",
    "plt.xlabel('epoch')\n",
    "plt.legend(['train', 'val'], loc='upper left')\n",
    "plt.show()\n",
    "\n",
    "# Plotting loss trajectory\n",
    "plt.plot(hybrid_cnn_lstm_model_results.history['loss'],'o')\n",
    "plt.plot(hybrid_cnn_lstm_model_results.history['val_loss'],'o')\n",
    "plt.title('Hybrid CNN-LSTM model loss trajectory')\n",
    "plt.ylabel('loss')\n",
    "plt.xlabel('epoch')\n",
    "plt.legend(['train', 'val'], loc='upper left')\n",
    "plt.show()"
   ]
  },
  {
   "cell_type": "markdown",
   "metadata": {},
   "source": [
    "## (vii)(CNN-LSTM) Testing the performance of the hybrid CNN-LSTM model on the held out test set"
   ]
  },
  {
   "cell_type": "code",
   "execution_count": 14,
   "metadata": {},
   "outputs": [
    {
     "name": "stdout",
     "output_type": "stream",
     "text": [
      "Test accuracy of the hybrid CNN-LSTM model: 0.574999988079071\n"
     ]
    }
   ],
   "source": [
    "## Testing the hybrid CNN-LSTM model\n",
    "\n",
    "hybrid_cnn_lstm_score = hybrid_cnn_lstm_model.evaluate(x_test, y_test, verbose=0)\n",
    "print('Test accuracy of the hybrid CNN-LSTM model:',hybrid_cnn_lstm_score[1])"
   ]
  }
 ],
 "metadata": {
  "kernelspec": {
   "display_name": "Python 3 (ipykernel)",
   "language": "python",
   "name": "python3"
  },
  "language_info": {
   "codemirror_mode": {
    "name": "ipython",
    "version": 3
   },
   "file_extension": ".py",
   "mimetype": "text/x-python",
   "name": "python",
   "nbconvert_exporter": "python",
   "pygments_lexer": "ipython3",
   "version": "3.9.7"
  }
 },
 "nbformat": 4,
 "nbformat_minor": 2
}
