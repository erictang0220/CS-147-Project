{
 "cells": [
  {
   "cell_type": "markdown",
   "metadata": {},
   "source": [
    "# Transformer based on TA notebook"
   ]
  },
  {
   "cell_type": "markdown",
   "metadata": {},
   "source": [
    "#### This notebook has been created by Tonmoy."
   ]
  },
  {
   "cell_type": "markdown",
   "metadata": {},
   "source": [
    "## (i) Importing the necessary packages"
   ]
  },
  {
   "cell_type": "code",
   "execution_count": 10,
   "metadata": {},
   "outputs": [],
   "source": [
    "import numpy as np\n",
    "import pandas as pd\n",
    "import keras\n",
    "from keras.models import Sequential\n",
    "from keras.layers import Dense, Activation, Flatten,Dropout\n",
    "from keras.layers import Conv2D,LSTM,BatchNormalization,MaxPooling2D,Reshape\n",
    "from keras.utils import to_categorical\n",
    "import matplotlib.pyplot as plt\n",
    "import tensorflow as tf"
   ]
  },
  {
   "cell_type": "markdown",
   "metadata": {},
   "source": [
    "## (ii) Preprocessing the dataset and preparing the training, validation, and test datasets"
   ]
  },
  {
   "cell_type": "code",
   "execution_count": 11,
   "metadata": {},
   "outputs": [],
   "source": [
    "def data_prep(X,y,sub_sample,average,noise):\n",
    "    \n",
    "    total_X = None\n",
    "    total_y = None\n",
    "    \n",
    "    # Trimming the data (sample,22,1000) -> (sample,22,500)\n",
    "    X = X[:,:,0:500]\n",
    "    print('Shape of X after trimming:',X.shape)\n",
    "    \n",
    "    # Maxpooling the data (sample,22,1000) -> (sample,22,500/sub_sample)\n",
    "    X_max = np.max(X.reshape(X.shape[0], X.shape[1], -1, sub_sample), axis=3)\n",
    "    \n",
    "    \n",
    "    total_X = X_max\n",
    "    total_y = y\n",
    "    print('Shape of X after maxpooling:',total_X.shape)\n",
    "    \n",
    "    # Averaging + noise \n",
    "    X_average = np.mean(X.reshape(X.shape[0], X.shape[1], -1, average),axis=3)\n",
    "    X_average = X_average + np.random.normal(0.0, 0.5, X_average.shape)\n",
    "    \n",
    "    total_X = np.vstack((total_X, X_average))\n",
    "    total_y = np.hstack((total_y, y))\n",
    "    print('Shape of X after averaging+noise and concatenating:',total_X.shape)\n",
    "    \n",
    "    # Subsampling\n",
    "    \n",
    "    for i in range(sub_sample):\n",
    "        \n",
    "        X_subsample = X[:, :, i::sub_sample] + \\\n",
    "                            (np.random.normal(0.0, 0.5, X[:, :,i::sub_sample].shape) if noise else 0.0)\n",
    "            \n",
    "        total_X = np.vstack((total_X, X_subsample))\n",
    "        total_y = np.hstack((total_y, y))\n",
    "        \n",
    "    \n",
    "    print('Shape of X after subsampling and concatenating:',total_X.shape)\n",
    "    return total_X,total_y\n",
    "\n"
   ]
  },
  {
   "cell_type": "code",
   "execution_count": 12,
   "metadata": {},
   "outputs": [
    {
     "name": "stdout",
     "output_type": "stream",
     "text": [
      "Shape of X after trimming: (1740, 22, 500)\n",
      "Shape of X after maxpooling: (1740, 22, 250)\n",
      "Shape of X after averaging+noise and concatenating: (3480, 22, 250)\n",
      "Shape of X after subsampling and concatenating: (6960, 22, 250)\n",
      "Shape of X after trimming: (375, 22, 500)\n",
      "Shape of X after maxpooling: (375, 22, 250)\n",
      "Shape of X after averaging+noise and concatenating: (750, 22, 250)\n",
      "Shape of X after subsampling and concatenating: (1500, 22, 250)\n",
      "Shape of X after trimming: (443, 22, 500)\n",
      "Shape of X after maxpooling: (443, 22, 250)\n",
      "Shape of X after averaging+noise and concatenating: (886, 22, 250)\n",
      "Shape of X after subsampling and concatenating: (1772, 22, 250)\n",
      "Shape of training set: (6960, 22, 250)\n",
      "Shape of validation set: (1500, 22, 250)\n",
      "Shape of training labels: (6960,)\n",
      "Shape of validation labels: (1500,)\n",
      "Shape of testing set: (1772, 22, 250)\n",
      "Shape of testing labels: (1772,)\n",
      "Shape of training labels after categorical conversion: (6960, 4)\n",
      "Shape of validation labels after categorical conversion: (1500, 4)\n",
      "Shape of test labels after categorical conversion: (1772, 4)\n",
      "Shape of training set after adding width info: (6960, 22, 250, 1)\n",
      "Shape of validation set after adding width info: (1500, 22, 250, 1)\n",
      "Shape of test set after adding width info: (1772, 22, 250, 1)\n",
      "Shape of training set after dimension reshaping: (6960, 250, 1, 22)\n",
      "Shape of validation set after dimension reshaping: (1500, 250, 1, 22)\n",
      "Shape of test set after dimension reshaping: (1772, 250, 1, 22)\n"
     ]
    }
   ],
   "source": [
    "## Loading the dataset\n",
    "\n",
    "\n",
    "X_test = np.load(\"X_test.npy\")\n",
    "y_test = np.load(\"y_test.npy\")\n",
    "person_train_valid = np.load(\"person_train_valid.npy\")\n",
    "X_train_valid = np.load(\"X_train_valid.npy\")\n",
    "y_train_valid = np.load(\"y_train_valid.npy\")\n",
    "person_test = np.load(\"person_test.npy\")\n",
    "\n",
    "## Adjusting the labels so that \n",
    "\n",
    "# Cue onset left - 0\n",
    "# Cue onset right - 1\n",
    "# Cue onset foot - 2\n",
    "# Cue onset tongue - 3\n",
    "\n",
    "y_train_valid -= 769\n",
    "y_test -= 769\n",
    "\n",
    "\n",
    "## Random splitting and reshaping the data\n",
    "# First generating the training and validation indices using random splitting\n",
    "\n",
    "ind_valid = np.random.choice(2115, 375, replace=False)\n",
    "ind_train = np.array(list(set(range(2115)).difference(set(ind_valid))))\n",
    "\n",
    "# Creating the training and validation sets using the generated indices\n",
    "(X_train, X_valid) = X_train_valid[ind_train], X_train_valid[ind_valid] \n",
    "(y_train, y_valid) = y_train_valid[ind_train], y_train_valid[ind_valid]\n",
    "\n",
    "\n",
    "## Preprocessing the dataset\n",
    "x_train,y_train = data_prep(X_train,y_train,2,2,True)\n",
    "x_valid,y_valid = data_prep(X_valid,y_valid,2,2,True)\n",
    "X_test_prep,y_test_prep = data_prep(X_test,y_test,2,2,True)\n",
    "\n",
    "\n",
    "print('Shape of training set:',x_train.shape)\n",
    "print('Shape of validation set:',x_valid.shape)\n",
    "print('Shape of training labels:',y_train.shape)\n",
    "print('Shape of validation labels:',y_valid.shape)\n",
    "print('Shape of testing set:',X_test_prep.shape)\n",
    "print('Shape of testing labels:',y_test_prep.shape)\n",
    "\n",
    "\n",
    "# Converting the labels to categorical variables for multiclass classification\n",
    "y_train = to_categorical(y_train, 4)\n",
    "y_valid = to_categorical(y_valid, 4)\n",
    "y_test = to_categorical(y_test_prep, 4)\n",
    "print('Shape of training labels after categorical conversion:',y_train.shape)\n",
    "print('Shape of validation labels after categorical conversion:',y_valid.shape)\n",
    "print('Shape of test labels after categorical conversion:',y_test.shape)\n",
    "\n",
    "# Adding width of the segment to be 1\n",
    "x_train = x_train.reshape(x_train.shape[0], x_train.shape[1], x_train.shape[2], 1)\n",
    "x_valid = x_valid.reshape(x_valid.shape[0], x_valid.shape[1], x_train.shape[2], 1)\n",
    "x_test = X_test_prep.reshape(X_test_prep.shape[0], X_test_prep.shape[1], X_test_prep.shape[2], 1)\n",
    "print('Shape of training set after adding width info:',x_train.shape)\n",
    "print('Shape of validation set after adding width info:',x_valid.shape)\n",
    "print('Shape of test set after adding width info:',x_test.shape)\n",
    "\n",
    "\n",
    "# Reshaping the training and validation dataset\n",
    "x_train = np.swapaxes(x_train, 1,3)\n",
    "x_train = np.swapaxes(x_train, 1,2)\n",
    "x_valid = np.swapaxes(x_valid, 1,3)\n",
    "x_valid = np.swapaxes(x_valid, 1,2)\n",
    "x_test = np.swapaxes(x_test, 1,3)\n",
    "x_test = np.swapaxes(x_test, 1,2)\n",
    "print('Shape of training set after dimension reshaping:',x_train.shape)\n",
    "print('Shape of validation set after dimension reshaping:',x_valid.shape)\n",
    "print('Shape of test set after dimension reshaping:',x_test.shape)\n",
    "\n",
    "\n"
   ]
  },
  {
   "cell_type": "markdown",
   "metadata": {},
   "source": [
    "## (iii)(CNN-LSTM) Defining the architecture of the hybrid CNN-LSTM model"
   ]
  },
  {
   "cell_type": "code",
   "execution_count": 13,
   "metadata": {},
   "outputs": [
    {
     "name": "stdout",
     "output_type": "stream",
     "text": [
      "Model: \"model_1\"\n",
      "__________________________________________________________________________________________________\n",
      " Layer (type)                   Output Shape         Param #     Connected to                     \n",
      "==================================================================================================\n",
      " input_2 (InputLayer)           [(None, 250, 1, 22)  0           []                               \n",
      "                                ]                                                                 \n",
      "                                                                                                  \n",
      " lambda_1 (Lambda)              (None, 250, 1, 22)   0           ['input_2[0][0]']                \n",
      "                                                                                                  \n",
      " batch_normalization_1 (BatchNo  (None, 250, 1, 22)  88          ['lambda_1[0][0]']               \n",
      " rmalization)                                                                                     \n",
      "                                                                                                  \n",
      " multi_head_attention_3 (MultiH  (None, 250, 1, 22)  8030        ['batch_normalization_1[0][0]',  \n",
      " eadAttention)                                                    'batch_normalization_1[0][0]']  \n",
      "                                                                                                  \n",
      " dropout_9 (Dropout)            (None, 250, 1, 22)   0           ['multi_head_attention_3[0][0]'] \n",
      "                                                                                                  \n",
      " tf.__operators__.add_6 (TFOpLa  (None, 250, 1, 22)  0           ['input_2[0][0]',                \n",
      " mbda)                                                            'dropout_9[0][0]']              \n",
      "                                                                                                  \n",
      " layer_normalization_6 (LayerNo  (None, 250, 1, 22)  44          ['tf.__operators__.add_6[0][0]'] \n",
      " rmalization)                                                                                     \n",
      "                                                                                                  \n",
      " dense_7 (Dense)                (None, 250, 1, 128)  2944        ['layer_normalization_6[0][0]']  \n",
      "                                                                                                  \n",
      " dropout_10 (Dropout)           (None, 250, 1, 128)  0           ['dense_7[0][0]']                \n",
      "                                                                                                  \n",
      " dense_8 (Dense)                (None, 250, 1, 22)   2838        ['dropout_10[0][0]']             \n",
      "                                                                                                  \n",
      " dropout_11 (Dropout)           (None, 250, 1, 22)   0           ['dense_8[0][0]']                \n",
      "                                                                                                  \n",
      " tf.__operators__.add_7 (TFOpLa  (None, 250, 1, 22)  0           ['layer_normalization_6[0][0]',  \n",
      " mbda)                                                            'dropout_11[0][0]']             \n",
      "                                                                                                  \n",
      " layer_normalization_7 (LayerNo  (None, 250, 1, 22)  44          ['tf.__operators__.add_7[0][0]'] \n",
      " rmalization)                                                                                     \n",
      "                                                                                                  \n",
      " multi_head_attention_4 (MultiH  (None, 250, 1, 22)  8030        ['layer_normalization_7[0][0]',  \n",
      " eadAttention)                                                    'layer_normalization_7[0][0]']  \n",
      "                                                                                                  \n",
      " dropout_12 (Dropout)           (None, 250, 1, 22)   0           ['multi_head_attention_4[0][0]'] \n",
      "                                                                                                  \n",
      " tf.__operators__.add_8 (TFOpLa  (None, 250, 1, 22)  0           ['input_2[0][0]',                \n",
      " mbda)                                                            'dropout_12[0][0]']             \n",
      "                                                                                                  \n",
      " layer_normalization_8 (LayerNo  (None, 250, 1, 22)  44          ['tf.__operators__.add_8[0][0]'] \n",
      " rmalization)                                                                                     \n",
      "                                                                                                  \n",
      " dense_9 (Dense)                (None, 250, 1, 128)  2944        ['layer_normalization_8[0][0]']  \n",
      "                                                                                                  \n",
      " dropout_13 (Dropout)           (None, 250, 1, 128)  0           ['dense_9[0][0]']                \n",
      "                                                                                                  \n",
      " dense_10 (Dense)               (None, 250, 1, 22)   2838        ['dropout_13[0][0]']             \n",
      "                                                                                                  \n",
      " dropout_14 (Dropout)           (None, 250, 1, 22)   0           ['dense_10[0][0]']               \n",
      "                                                                                                  \n",
      " tf.__operators__.add_9 (TFOpLa  (None, 250, 1, 22)  0           ['layer_normalization_8[0][0]',  \n",
      " mbda)                                                            'dropout_14[0][0]']             \n",
      "                                                                                                  \n",
      " layer_normalization_9 (LayerNo  (None, 250, 1, 22)  44          ['tf.__operators__.add_9[0][0]'] \n",
      " rmalization)                                                                                     \n",
      "                                                                                                  \n",
      " multi_head_attention_5 (MultiH  (None, 250, 1, 22)  8030        ['layer_normalization_9[0][0]',  \n",
      " eadAttention)                                                    'layer_normalization_9[0][0]']  \n",
      "                                                                                                  \n",
      " dropout_15 (Dropout)           (None, 250, 1, 22)   0           ['multi_head_attention_5[0][0]'] \n",
      "                                                                                                  \n",
      " tf.__operators__.add_10 (TFOpL  (None, 250, 1, 22)  0           ['input_2[0][0]',                \n",
      " ambda)                                                           'dropout_15[0][0]']             \n",
      "                                                                                                  \n",
      " layer_normalization_10 (LayerN  (None, 250, 1, 22)  44          ['tf.__operators__.add_10[0][0]']\n",
      " ormalization)                                                                                    \n",
      "                                                                                                  \n",
      " dense_11 (Dense)               (None, 250, 1, 128)  2944        ['layer_normalization_10[0][0]'] \n",
      "                                                                                                  \n",
      " dropout_16 (Dropout)           (None, 250, 1, 128)  0           ['dense_11[0][0]']               \n",
      "                                                                                                  \n",
      " dense_12 (Dense)               (None, 250, 1, 22)   2838        ['dropout_16[0][0]']             \n",
      "                                                                                                  \n",
      " dropout_17 (Dropout)           (None, 250, 1, 22)   0           ['dense_12[0][0]']               \n",
      "                                                                                                  \n",
      " tf.__operators__.add_11 (TFOpL  (None, 250, 1, 22)  0           ['layer_normalization_10[0][0]', \n",
      " ambda)                                                           'dropout_17[0][0]']             \n",
      "                                                                                                  \n"
     ]
    },
    {
     "name": "stdout",
     "output_type": "stream",
     "text": [
      " layer_normalization_11 (LayerN  (None, 250, 1, 22)  44          ['tf.__operators__.add_11[0][0]']\n",
      " ormalization)                                                                                    \n",
      "                                                                                                  \n",
      " flatten_1 (Flatten)            (None, 5500)         0           ['layer_normalization_11[0][0]'] \n",
      "                                                                                                  \n",
      " dense_13 (Dense)               (None, 4)            22004       ['flatten_1[0][0]']              \n",
      "                                                                                                  \n",
      "==================================================================================================\n",
      "Total params: 63,792\n",
      "Trainable params: 63,748\n",
      "Non-trainable params: 44\n",
      "__________________________________________________________________________________________________\n"
     ]
    }
   ],
   "source": [
    "import tensorflow as tf\n",
    "\n",
    "# Define the input shape\n",
    "input_shape = (250, 1, 22)\n",
    "\n",
    "# Define the output shape\n",
    "output_shape = 4\n",
    "\n",
    "# Define the hyperparameters\n",
    "num_heads = 4\n",
    "ff_dim = 128\n",
    "dropout_rate = 0.5\n",
    "\n",
    "# Define the input layer\n",
    "inputs = tf.keras.layers.Input(shape=input_shape)\n",
    "\n",
    "# Add positional encoding\n",
    "positional_encoding = tf.keras.layers.Lambda(\n",
    "    lambda x: x * tf.math.sqrt(tf.cast(tf.shape(x)[-2], tf.float32))\n",
    ")(inputs)\n",
    "positional_encoding = tf.keras.layers.BatchNormalization()(positional_encoding)\n",
    "\n",
    "# Add Transformer layers\n",
    "for _ in range(3):\n",
    "    # Add multi-head attention\n",
    "    multi_head_attention = tf.keras.layers.MultiHeadAttention(\n",
    "        num_heads=num_heads, key_dim=22\n",
    "    )(positional_encoding, positional_encoding)\n",
    "    multi_head_attention = tf.keras.layers.Dropout(dropout_rate)(multi_head_attention)\n",
    "    multi_head_attention = tf.keras.layers.LayerNormalization(epsilon=1e-6)(\n",
    "        inputs + multi_head_attention\n",
    "    )\n",
    "\n",
    "    # Add feedforward layer\n",
    "    feedforward_layer = tf.keras.layers.Dense(ff_dim, activation=\"relu\")(multi_head_attention)\n",
    "    feedforward_layer = tf.keras.layers.Dropout(dropout_rate)(feedforward_layer)\n",
    "    feedforward_layer = tf.keras.layers.Dense(22)(feedforward_layer)\n",
    "    feedforward_layer = tf.keras.layers.Dropout(dropout_rate)(feedforward_layer)\n",
    "    feedforward_layer = tf.keras.layers.LayerNormalization(epsilon=1e-6)(\n",
    "        multi_head_attention + feedforward_layer\n",
    "    )\n",
    "\n",
    "    # Update the positional encoding\n",
    "    positional_encoding = feedforward_layer\n",
    "\n",
    "# Flatten the output tensor\n",
    "flatten_output = tf.keras.layers.Flatten()(positional_encoding)\n",
    "\n",
    "# Add the output layer\n",
    "outputs = tf.keras.layers.Dense(output_shape, activation=\"softmax\")(flatten_output)\n",
    "\n",
    "# Create the model\n",
    "hybrid_cnn_lstm_model = tf.keras.Model(inputs=inputs, outputs=outputs)\n",
    "\n",
    "\n",
    "\n",
    "# Print the model summary\n",
    "\n",
    "hybrid_cnn_lstm_model.summary()\n",
    "\n",
    "\n",
    "\n",
    "\n",
    "\n"
   ]
  },
  {
   "cell_type": "markdown",
   "metadata": {},
   "source": [
    "## (iv)(CNN-LSTM) Defining the hyperparameters of the hybrid CNN-LSTM model"
   ]
  },
  {
   "cell_type": "code",
   "execution_count": 14,
   "metadata": {},
   "outputs": [],
   "source": [
    "# Model parameters\n",
    "learning_rate = 1e-3\n",
    "epochs = 10\n",
    "hybrid_cnn_lstm_optimizer = keras.optimizers.Adam(lr=learning_rate)"
   ]
  },
  {
   "cell_type": "markdown",
   "metadata": {},
   "source": [
    "## (v)(CNN-LSTM) Compiling, training and validating the model"
   ]
  },
  {
   "cell_type": "code",
   "execution_count": 15,
   "metadata": {},
   "outputs": [
    {
     "name": "stdout",
     "output_type": "stream",
     "text": [
      "Epoch 1/10\n",
      "109/109 [==============================] - 215s 2s/step - loss: 1.1304 - accuracy: 0.5651 - val_loss: 1.3044 - val_accuracy: 0.5300\n",
      "Epoch 2/10\n",
      "109/109 [==============================] - 211s 2s/step - loss: 0.5310 - accuracy: 0.7994 - val_loss: 1.3028 - val_accuracy: 0.5707\n",
      "Epoch 3/10\n",
      "109/109 [==============================] - 209s 2s/step - loss: 0.2948 - accuracy: 0.9003 - val_loss: 1.4545 - val_accuracy: 0.5767\n",
      "Epoch 4/10\n",
      "109/109 [==============================] - 210s 2s/step - loss: 0.1858 - accuracy: 0.9451 - val_loss: 1.5088 - val_accuracy: 0.5847\n",
      "Epoch 5/10\n",
      "109/109 [==============================] - 211s 2s/step - loss: 0.1118 - accuracy: 0.9754 - val_loss: 1.6078 - val_accuracy: 0.5960\n",
      "Epoch 6/10\n",
      "109/109 [==============================] - 227s 2s/step - loss: 0.0817 - accuracy: 0.9836 - val_loss: 1.6567 - val_accuracy: 0.5980\n",
      "Epoch 7/10\n",
      "109/109 [==============================] - 210s 2s/step - loss: 0.0557 - accuracy: 0.9918 - val_loss: 1.7791 - val_accuracy: 0.6027\n",
      "Epoch 8/10\n",
      "109/109 [==============================] - 209s 2s/step - loss: 0.0440 - accuracy: 0.9954 - val_loss: 1.8143 - val_accuracy: 0.5967\n",
      "Epoch 9/10\n",
      "109/109 [==============================] - 208s 2s/step - loss: 0.0342 - accuracy: 0.9958 - val_loss: 1.8970 - val_accuracy: 0.5967\n",
      "Epoch 10/10\n",
      "109/109 [==============================] - 211s 2s/step - loss: 0.0263 - accuracy: 0.9978 - val_loss: 1.9478 - val_accuracy: 0.5900\n"
     ]
    }
   ],
   "source": [
    "# Compiling the model\n",
    "hybrid_cnn_lstm_model.compile(loss='categorical_crossentropy',\n",
    "                 optimizer=hybrid_cnn_lstm_optimizer,\n",
    "                 metrics=['accuracy'])\n",
    "\n",
    "# Training and validating the model\n",
    "hybrid_cnn_lstm_model_results = hybrid_cnn_lstm_model.fit(x_train,\n",
    "             y_train,\n",
    "             batch_size=64,\n",
    "             epochs=epochs,\n",
    "             validation_data=(x_valid, y_valid), verbose=True)\n",
    "\n"
   ]
  },
  {
   "cell_type": "markdown",
   "metadata": {},
   "source": [
    "## (vi)(CNN-LSTM) Visualizing the accuracy and loss trajectory"
   ]
  },
  {
   "cell_type": "code",
   "execution_count": 18,
   "metadata": {},
   "outputs": [
    {
     "data": {
      "image/png": "[encoded data removed]",
      "text/plain": [
       "<Figure size 640x480 with 1 Axes>"
      ]
     },
     "metadata": {},
     "output_type": "display_data"
    },
    {
     "data": {
      "image/png": "[encoded data removed]",
      "text/plain": [
       "<Figure size 640x480 with 1 Axes>"
      ]
     },
     "metadata": {},
     "output_type": "display_data"
    }
   ],
   "source": [
    "import matplotlib.pyplot as plt\n",
    "\n",
    "# Plotting accuracy trajectory\n",
    "plt.plot(hybrid_cnn_lstm_model_results.history['accuracy'])\n",
    "plt.plot(hybrid_cnn_lstm_model_results.history['val_accuracy'])\n",
    "plt.title('Transformer model accuracy trajectory')\n",
    "plt.ylabel('accuracy')\n",
    "plt.xlabel('epoch')\n",
    "plt.legend(['train', 'val'], loc='upper left')\n",
    "plt.show()\n",
    "\n",
    "# Plotting loss trajectory\n",
    "plt.plot(hybrid_cnn_lstm_model_results.history['loss'],'o')\n",
    "plt.plot(hybrid_cnn_lstm_model_results.history['val_loss'],'o')\n",
    "plt.title('Transformer model loss trajectory')\n",
    "plt.ylabel('loss')\n",
    "plt.xlabel('epoch')\n",
    "plt.legend(['train', 'val'], loc='upper left')\n",
    "plt.show()"
   ]
  },
  {
   "cell_type": "markdown",
   "metadata": {},
   "source": [
    "## (vii)(CNN-LSTM) Testing the performance of the hybrid CNN-LSTM model on the held out test set"
   ]
  },
  {
   "cell_type": "code",
   "execution_count": 17,
   "metadata": {},
   "outputs": [
    {
     "name": "stdout",
     "output_type": "stream",
     "text": [
      "Test accuracy of the Transformer model: 0.5795711278915405\n"
     ]
    }
   ],
   "source": [
    "## Testing the hybrid CNN-LSTM model\n",
    "\n",
    "hybrid_cnn_lstm_score = hybrid_cnn_lstm_model.evaluate(x_test, y_test, verbose=0)\n",
    "print('Test accuracy of the Transformer model:',hybrid_cnn_lstm_score[1])"
   ]
  }
 ],
 "metadata": {
  "kernelspec": {
   "display_name": "Python 3 (ipykernel)",
   "language": "python",
   "name": "python3"
  },
  "language_info": {
   "codemirror_mode": {
    "name": "ipython",
    "version": 3
   },
   "file_extension": ".py",
   "mimetype": "text/x-python",
   "name": "python",
   "nbconvert_exporter": "python",
   "pygments_lexer": "ipython3",
   "version": "3.9.13"
  }
 },
 "nbformat": 4,
 "nbformat_minor": 2
}
